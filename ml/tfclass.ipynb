{
 "cells": [
  {
   "cell_type": "code",
   "execution_count": 42,
   "metadata": {},
   "outputs": [
    {
     "ename": "ModuleNotFoundError",
     "evalue": "No module named 'tensorflow_probability'",
     "output_type": "error",
     "traceback": [
      "\u001b[0;31m---------------------------------------------------------------------------\u001b[0m",
      "\u001b[0;31mModuleNotFoundError\u001b[0m                       Traceback (most recent call last)",
      "\u001b[1;32m/home/psyrax/code/hack2022/tfclass.ipynb Cell 1\u001b[0m in \u001b[0;36m<cell line: 11>\u001b[0;34m()\u001b[0m\n\u001b[1;32m      <a href='vscode-notebook-cell:/home/psyrax/code/hack2022/tfclass.ipynb#W0sZmlsZQ%3D%3D?line=7'>8</a>\u001b[0m \u001b[39mfrom\u001b[39;00m \u001b[39msklearn\u001b[39;00m\u001b[39m.\u001b[39;00m\u001b[39mmetrics\u001b[39;00m \u001b[39mimport\u001b[39;00m accuracy_score, precision_score, recall_score\n\u001b[1;32m      <a href='vscode-notebook-cell:/home/psyrax/code/hack2022/tfclass.ipynb#W0sZmlsZQ%3D%3D?line=8'>9</a>\u001b[0m \u001b[39mfrom\u001b[39;00m \u001b[39msklearn\u001b[39;00m\u001b[39m.\u001b[39;00m\u001b[39mdecomposition\u001b[39;00m \u001b[39mimport\u001b[39;00m PCA\n\u001b[0;32m---> <a href='vscode-notebook-cell:/home/psyrax/code/hack2022/tfclass.ipynb#W0sZmlsZQ%3D%3D?line=10'>11</a>\u001b[0m \u001b[39mimport\u001b[39;00m \u001b[39mtensorflow_probability\u001b[39;00m \u001b[39mas\u001b[39;00m \u001b[39mtfp\u001b[39;00m\n\u001b[1;32m     <a href='vscode-notebook-cell:/home/psyrax/code/hack2022/tfclass.ipynb#W0sZmlsZQ%3D%3D?line=12'>13</a>\u001b[0m \u001b[39mfrom\u001b[39;00m \u001b[39mtensorflow_probability\u001b[39;00m \u001b[39mimport\u001b[39;00m bijectors \u001b[39mas\u001b[39;00m tfb\n\u001b[1;32m     <a href='vscode-notebook-cell:/home/psyrax/code/hack2022/tfclass.ipynb#W0sZmlsZQ%3D%3D?line=13'>14</a>\u001b[0m \u001b[39mfrom\u001b[39;00m \u001b[39mtensorflow_probability\u001b[39;00m \u001b[39mimport\u001b[39;00m distributions \u001b[39mas\u001b[39;00m tfd\n",
      "\u001b[0;31mModuleNotFoundError\u001b[0m: No module named 'tensorflow_probability'"
     ]
    }
   ],
   "source": [
    "import numpy as np\n",
    "import pandas as pd \n",
    "from sklearn.model_selection import train_test_split\n",
    "from sklearn.preprocessing import StandardScaler\n",
    "import tensorflow as tf\n",
    "from sklearn.metrics import confusion_matrix\n",
    "from collections import Counter\n",
    "from sklearn.metrics import accuracy_score, precision_score, recall_score\n",
    "from sklearn.decomposition import PCA\n",
    "\n",
    "import tensorflow_probability as tfp\n",
    "\n",
    "from tensorflow_probability import bijectors as tfb\n",
    "from tensorflow_probability import distributions as tfd"
   ]
  },
  {
   "cell_type": "code",
   "execution_count": 2,
   "metadata": {},
   "outputs": [],
   "source": [
    "df = pd.read_csv('./Data/clientsSynthAgg.csv')"
   ]
  },
  {
   "cell_type": "code",
   "execution_count": 33,
   "metadata": {},
   "outputs": [],
   "source": []
  },
  {
   "cell_type": "code",
   "execution_count": 7,
   "metadata": {},
   "outputs": [],
   "source": [
    "df = df.dropna()\n",
    "df = df.drop(columns=['CD_ESTADO','CD_POSTAL','CD_SEXO', 'NU_CTE_COD'])"
   ]
  },
  {
   "cell_type": "code",
   "execution_count": 8,
   "metadata": {},
   "outputs": [
    {
     "data": {
      "text/html": [
       "<div>\n",
       "<style scoped>\n",
       "    .dataframe tbody tr th:only-of-type {\n",
       "        vertical-align: middle;\n",
       "    }\n",
       "\n",
       "    .dataframe tbody tr th {\n",
       "        vertical-align: top;\n",
       "    }\n",
       "\n",
       "    .dataframe thead th {\n",
       "        text-align: right;\n",
       "    }\n",
       "</style>\n",
       "<table border=\"1\" class=\"dataframe\">\n",
       "  <thead>\n",
       "    <tr style=\"text-align: right;\">\n",
       "      <th></th>\n",
       "      <th>EDAD</th>\n",
       "      <th>acc</th>\n",
       "      <th>caminar</th>\n",
       "      <th>ver</th>\n",
       "      <th>escuchar</th>\n",
       "      <th>hablar</th>\n",
       "      <th>cuidado</th>\n",
       "      <th>recordar</th>\n",
       "      <th>mental</th>\n",
       "      <th>mean_AUTOSERVICIOS_4</th>\n",
       "      <th>...</th>\n",
       "      <th>count_FOTOGRAFIA, ARTE Y ANUNCIOS   COMERCIALES,(ARTES Y ANUNCIOS_9</th>\n",
       "      <th>count_OSTEOPATAS_5</th>\n",
       "      <th>count_CONTRATISTAS TECHOS, ESTRUCTURAS Y LAMINAS_6</th>\n",
       "      <th>count_CONTRATISTAS (YESO) (CANTERA Y MAMPOSTERIA) (TEJAS, PISOS Y_7</th>\n",
       "      <th>count_VENTA DE TOLDOS, (VENTA DE TIENDAS DE CAMPANA),_8</th>\n",
       "      <th>count_HAMPTON INN HOTELS_4</th>\n",
       "      <th>count_BAILE   SALONES Y ESCUELAS DE BAILE_9</th>\n",
       "      <th>count_SERVICIO   GRUAS Y TRASLADOS_6</th>\n",
       "      <th>count_VENTAS DE SALDOS_5</th>\n",
       "      <th>count_UNITED AIRLINES_5</th>\n",
       "    </tr>\n",
       "  </thead>\n",
       "  <tbody>\n",
       "    <tr>\n",
       "      <th>0</th>\n",
       "      <td>68</td>\n",
       "      <td>0.0</td>\n",
       "      <td>0.0</td>\n",
       "      <td>0.0</td>\n",
       "      <td>0.0</td>\n",
       "      <td>0.0</td>\n",
       "      <td>0.0</td>\n",
       "      <td>0.0</td>\n",
       "      <td>0.0</td>\n",
       "      <td>6574.390000</td>\n",
       "      <td>...</td>\n",
       "      <td>0.0</td>\n",
       "      <td>0.0</td>\n",
       "      <td>0.0</td>\n",
       "      <td>0.0</td>\n",
       "      <td>0.0</td>\n",
       "      <td>0.0</td>\n",
       "      <td>0.0</td>\n",
       "      <td>0.0</td>\n",
       "      <td>0.0</td>\n",
       "      <td>0.0</td>\n",
       "    </tr>\n",
       "    <tr>\n",
       "      <th>1</th>\n",
       "      <td>22</td>\n",
       "      <td>0.0</td>\n",
       "      <td>0.0</td>\n",
       "      <td>0.0</td>\n",
       "      <td>0.0</td>\n",
       "      <td>0.0</td>\n",
       "      <td>0.0</td>\n",
       "      <td>0.0</td>\n",
       "      <td>0.0</td>\n",
       "      <td>342.985000</td>\n",
       "      <td>...</td>\n",
       "      <td>0.0</td>\n",
       "      <td>0.0</td>\n",
       "      <td>0.0</td>\n",
       "      <td>0.0</td>\n",
       "      <td>0.0</td>\n",
       "      <td>0.0</td>\n",
       "      <td>0.0</td>\n",
       "      <td>0.0</td>\n",
       "      <td>0.0</td>\n",
       "      <td>0.0</td>\n",
       "    </tr>\n",
       "    <tr>\n",
       "      <th>2</th>\n",
       "      <td>22</td>\n",
       "      <td>0.0</td>\n",
       "      <td>0.0</td>\n",
       "      <td>0.0</td>\n",
       "      <td>0.0</td>\n",
       "      <td>0.0</td>\n",
       "      <td>0.0</td>\n",
       "      <td>0.0</td>\n",
       "      <td>0.0</td>\n",
       "      <td>338.830000</td>\n",
       "      <td>...</td>\n",
       "      <td>0.0</td>\n",
       "      <td>0.0</td>\n",
       "      <td>0.0</td>\n",
       "      <td>0.0</td>\n",
       "      <td>0.0</td>\n",
       "      <td>0.0</td>\n",
       "      <td>0.0</td>\n",
       "      <td>0.0</td>\n",
       "      <td>0.0</td>\n",
       "      <td>0.0</td>\n",
       "    </tr>\n",
       "    <tr>\n",
       "      <th>3</th>\n",
       "      <td>79</td>\n",
       "      <td>1.0</td>\n",
       "      <td>0.0</td>\n",
       "      <td>1.0</td>\n",
       "      <td>0.0</td>\n",
       "      <td>0.0</td>\n",
       "      <td>0.0</td>\n",
       "      <td>1.0</td>\n",
       "      <td>0.0</td>\n",
       "      <td>1281.000000</td>\n",
       "      <td>...</td>\n",
       "      <td>0.0</td>\n",
       "      <td>0.0</td>\n",
       "      <td>0.0</td>\n",
       "      <td>0.0</td>\n",
       "      <td>0.0</td>\n",
       "      <td>0.0</td>\n",
       "      <td>0.0</td>\n",
       "      <td>0.0</td>\n",
       "      <td>0.0</td>\n",
       "      <td>0.0</td>\n",
       "    </tr>\n",
       "    <tr>\n",
       "      <th>4</th>\n",
       "      <td>64</td>\n",
       "      <td>0.0</td>\n",
       "      <td>0.0</td>\n",
       "      <td>0.0</td>\n",
       "      <td>0.0</td>\n",
       "      <td>0.0</td>\n",
       "      <td>0.0</td>\n",
       "      <td>0.0</td>\n",
       "      <td>0.0</td>\n",
       "      <td>289.557692</td>\n",
       "      <td>...</td>\n",
       "      <td>0.0</td>\n",
       "      <td>0.0</td>\n",
       "      <td>0.0</td>\n",
       "      <td>0.0</td>\n",
       "      <td>0.0</td>\n",
       "      <td>0.0</td>\n",
       "      <td>0.0</td>\n",
       "      <td>0.0</td>\n",
       "      <td>0.0</td>\n",
       "      <td>0.0</td>\n",
       "    </tr>\n",
       "  </tbody>\n",
       "</table>\n",
       "<p>5 rows × 5445 columns</p>\n",
       "</div>"
      ],
      "text/plain": [
       "   EDAD  acc  caminar  ver  escuchar  hablar  cuidado  recordar  mental  \\\n",
       "0    68  0.0      0.0  0.0       0.0     0.0      0.0       0.0     0.0   \n",
       "1    22  0.0      0.0  0.0       0.0     0.0      0.0       0.0     0.0   \n",
       "2    22  0.0      0.0  0.0       0.0     0.0      0.0       0.0     0.0   \n",
       "3    79  1.0      0.0  1.0       0.0     0.0      0.0       1.0     0.0   \n",
       "4    64  0.0      0.0  0.0       0.0     0.0      0.0       0.0     0.0   \n",
       "\n",
       "   mean_AUTOSERVICIOS_4  ...  \\\n",
       "0           6574.390000  ...   \n",
       "1            342.985000  ...   \n",
       "2            338.830000  ...   \n",
       "3           1281.000000  ...   \n",
       "4            289.557692  ...   \n",
       "\n",
       "   count_FOTOGRAFIA, ARTE Y ANUNCIOS   COMERCIALES,(ARTES Y ANUNCIOS_9  \\\n",
       "0                                                0.0                     \n",
       "1                                                0.0                     \n",
       "2                                                0.0                     \n",
       "3                                                0.0                     \n",
       "4                                                0.0                     \n",
       "\n",
       "   count_OSTEOPATAS_5  count_CONTRATISTAS TECHOS, ESTRUCTURAS Y LAMINAS_6  \\\n",
       "0                 0.0                                                0.0    \n",
       "1                 0.0                                                0.0    \n",
       "2                 0.0                                                0.0    \n",
       "3                 0.0                                                0.0    \n",
       "4                 0.0                                                0.0    \n",
       "\n",
       "   count_CONTRATISTAS (YESO) (CANTERA Y MAMPOSTERIA) (TEJAS, PISOS Y_7  \\\n",
       "0                                                0.0                     \n",
       "1                                                0.0                     \n",
       "2                                                0.0                     \n",
       "3                                                0.0                     \n",
       "4                                                0.0                     \n",
       "\n",
       "   count_VENTA DE TOLDOS, (VENTA DE TIENDAS DE CAMPANA),_8  \\\n",
       "0                                                0.0         \n",
       "1                                                0.0         \n",
       "2                                                0.0         \n",
       "3                                                0.0         \n",
       "4                                                0.0         \n",
       "\n",
       "   count_HAMPTON INN HOTELS_4  count_BAILE   SALONES Y ESCUELAS DE BAILE_9  \\\n",
       "0                         0.0                                          0.0   \n",
       "1                         0.0                                          0.0   \n",
       "2                         0.0                                          0.0   \n",
       "3                         0.0                                          0.0   \n",
       "4                         0.0                                          0.0   \n",
       "\n",
       "   count_SERVICIO   GRUAS Y TRASLADOS_6  count_VENTAS DE SALDOS_5  \\\n",
       "0                                   0.0                       0.0   \n",
       "1                                   0.0                       0.0   \n",
       "2                                   0.0                       0.0   \n",
       "3                                   0.0                       0.0   \n",
       "4                                   0.0                       0.0   \n",
       "\n",
       "   count_UNITED AIRLINES_5  \n",
       "0                      0.0  \n",
       "1                      0.0  \n",
       "2                      0.0  \n",
       "3                      0.0  \n",
       "4                      0.0  \n",
       "\n",
       "[5 rows x 5445 columns]"
      ]
     },
     "execution_count": 8,
     "metadata": {},
     "output_type": "execute_result"
    }
   ],
   "source": [
    "df.head()"
   ]
  },
  {
   "cell_type": "markdown",
   "metadata": {},
   "source": [
    "# PCA"
   ]
  },
  {
   "cell_type": "code",
   "execution_count": 34,
   "metadata": {},
   "outputs": [],
   "source": [
    "pcaDF = df.drop(columns=['acc','caminar','ver','escuchar','hablar','cuidado','recordar','mental'])\n",
    "X = pcaDF.values"
   ]
  },
  {
   "cell_type": "code",
   "execution_count": 37,
   "metadata": {},
   "outputs": [
    {
     "data": {
      "text/plain": [
       "array([[ 0.91667591,  8.25839963,  0.82977197, ..., -0.01420048,\n",
       "        -0.01420048, -0.01420048],\n",
       "       [-0.54462558, -0.01501019,  4.9935019 , ..., -0.01420048,\n",
       "        -0.01420048, -0.01420048],\n",
       "       [-0.54462558, -0.02052677, -0.37179825, ..., -0.01420048,\n",
       "        -0.01420048, -0.01420048],\n",
       "       ...,\n",
       "       [-0.1634165 , -0.47038991, -0.37179825, ..., -0.01420048,\n",
       "        -0.01420048, -0.01420048],\n",
       "       [ 0.02718805,  0.87160068,  0.51492202, ..., -0.01420048,\n",
       "        -0.01420048, -0.01420048],\n",
       "       [ 0.28132744,  1.46870086,  0.8482453 , ..., -0.01420048,\n",
       "        -0.01420048, -0.01420048]])"
      ]
     },
     "execution_count": 37,
     "metadata": {},
     "output_type": "execute_result"
    }
   ],
   "source": [
    "scaler = StandardScaler()\n",
    "scaler.fit(X)\n",
    "X_scaled = scaler.transform(X)\n",
    "X_scaled"
   ]
  },
  {
   "cell_type": "code",
   "execution_count": 40,
   "metadata": {},
   "outputs": [],
   "source": [
    "pca_30 = PCA(n_components=30, random_state=1337)\n",
    "pca_30.fit(X_scaled)\n",
    "X_pca_30 = pca_30.transform(X_scaled)"
   ]
  },
  {
   "cell_type": "code",
   "execution_count": 41,
   "metadata": {},
   "outputs": [
    {
     "data": {
      "text/plain": [
       "array([1.14466424, 0.5412765 , 0.49745046, 0.4604444 , 0.44164034,\n",
       "       0.4290547 , 0.42583807, 0.41384   , 0.40894061, 0.40432404,\n",
       "       0.39139967, 0.38646878, 0.38030763, 0.37834029, 0.37411945,\n",
       "       0.36952569, 0.36433286, 0.36173602, 0.35480181, 0.34732977,\n",
       "       0.3464548 , 0.34268253, 0.33805874, 0.33337704, 0.32870023,\n",
       "       0.32647305, 0.3221755 , 0.32114664, 0.31642577, 0.31062588])"
      ]
     },
     "execution_count": 41,
     "metadata": {},
     "output_type": "execute_result"
    }
   ],
   "source": [
    "pca_30.explained_variance_ratio_ * 100"
   ]
  },
  {
   "cell_type": "markdown",
   "metadata": {},
   "source": [
    "# TF PCA"
   ]
  },
  {
   "cell_type": "code",
   "execution_count": 56,
   "metadata": {},
   "outputs": [],
   "source": [
    "pcaDF = df.drop(columns=['caminar','ver','escuchar','hablar','cuidado','recordar','mental'])\n",
    "pcaDF = StandardScaler().fit_transform(pcaDF)\n",
    "pcaDF_acc = PCA(n_components=2)\n",
    "principalComponents_acc = pcaDF_acc.fit_transform(pcaDF)"
   ]
  },
  {
   "cell_type": "markdown",
   "metadata": {},
   "source": [
    "# TF"
   ]
  },
  {
   "cell_type": "code",
   "execution_count": 96,
   "metadata": {},
   "outputs": [
    {
     "name": "stdout",
     "output_type": "stream",
     "text": [
      "MODEL caminar\n",
      "Epoch 1/100\n"
     ]
    },
    {
     "name": "stderr",
     "output_type": "stream",
     "text": [
      "/home/psyrax/anaconda3/envs/tfgpu39/lib/python3.9/site-packages/keras/optimizer_v2/adam.py:105: UserWarning: The `lr` argument is deprecated, use `learning_rate` instead.\n",
      "  super(Adam, self).__init__(name, **kwargs)\n"
     ]
    },
    {
     "name": "stdout",
     "output_type": "stream",
     "text": [
      "124/124 [==============================] - 1s 2ms/step - loss: 2.6335 - accuracy: 0.9020 - precision: 0.0580 - recall: 0.0300\n",
      "Epoch 2/100\n",
      "124/124 [==============================] - 0s 2ms/step - loss: 0.9391 - accuracy: 0.9259 - precision: 0.0345 - recall: 0.0037 \n",
      "Epoch 3/100\n",
      "124/124 [==============================] - 0s 2ms/step - loss: 0.3015 - accuracy: 0.9307 - precision: 0.1667 - recall: 0.0075 \n",
      "Epoch 4/100\n",
      "124/124 [==============================] - 0s 2ms/step - loss: 0.2494 - accuracy: 0.9335 - precision: 1.0000 - recall: 0.0112\n",
      "Epoch 5/100\n",
      "124/124 [==============================] - 0s 2ms/step - loss: 0.2450 - accuracy: 0.9335 - precision: 1.0000 - recall: 0.0112  \n",
      "Epoch 6/100\n",
      "124/124 [==============================] - 0s 2ms/step - loss: 0.2458 - accuracy: 0.9335 - precision: 1.0000 - recall: 0.0112\n",
      "Epoch 7/100\n",
      "124/124 [==============================] - 0s 2ms/step - loss: 1.0645 - accuracy: 0.9327 - precision: 0.5000 - recall: 0.0037\n",
      "Epoch 8/100\n",
      "124/124 [==============================] - 0s 2ms/step - loss: 0.3344 - accuracy: 0.9330 - precision: 1.0000 - recall: 0.0037   \n",
      "Epoch 9/100\n",
      "124/124 [==============================] - 0s 2ms/step - loss: 0.2480 - accuracy: 0.9327 - precision: 0.5000 - recall: 0.0037    \n",
      "Epoch 10/100\n",
      "124/124 [==============================] - 0s 2ms/step - loss: 0.2464 - accuracy: 0.9330 - precision: 1.0000 - recall: 0.0037    \n",
      "dict_values([992])\n",
      "[[941   0]\n",
      " [ 51   0]]\n",
      "Accuracy: 0.95\n",
      "Precision: 0.00\n",
      "Recall: 0.00\n"
     ]
    },
    {
     "name": "stderr",
     "output_type": "stream",
     "text": [
      "/home/psyrax/anaconda3/envs/tfgpu39/lib/python3.9/site-packages/sklearn/metrics/_classification.py:1221: UndefinedMetricWarning: Precision is ill-defined and being set to 0.0 due to no predicted samples. Use `zero_division` parameter to control this behavior.\n",
      "  _warn_prf(average, modifier, msg_start, len(result))\n"
     ]
    },
    {
     "name": "stdout",
     "output_type": "stream",
     "text": [
      "INFO:tensorflow:Assets written to: models/caminar/assets\n",
      "MODEL ver\n",
      "Epoch 1/100\n"
     ]
    },
    {
     "name": "stderr",
     "output_type": "stream",
     "text": [
      "/home/psyrax/anaconda3/envs/tfgpu39/lib/python3.9/site-packages/keras/optimizer_v2/adam.py:105: UserWarning: The `lr` argument is deprecated, use `learning_rate` instead.\n",
      "  super(Adam, self).__init__(name, **kwargs)\n"
     ]
    },
    {
     "name": "stdout",
     "output_type": "stream",
     "text": [
      "124/124 [==============================] - 1s 2ms/step - loss: 2.0075 - accuracy: 0.8816 - precision: 0.2037 - recall: 0.0542\n",
      "Epoch 2/100\n",
      "124/124 [==============================] - 0s 2ms/step - loss: 0.6270 - accuracy: 0.8886 - precision: 0.1667 - recall: 0.0222\n",
      "Epoch 3/100\n",
      "124/124 [==============================] - 0s 2ms/step - loss: 0.4073 - accuracy: 0.8964 - precision: 0.3333 - recall: 0.0123\n",
      "Epoch 4/100\n",
      "124/124 [==============================] - 0s 2ms/step - loss: 0.3892 - accuracy: 0.8969 - precision: 0.3333 - recall: 0.0074\n",
      "Epoch 5/100\n",
      "124/124 [==============================] - 0s 2ms/step - loss: 0.3322 - accuracy: 0.8979 - precision: 0.6667 - recall: 0.0049\n",
      "Epoch 6/100\n",
      "124/124 [==============================] - 0s 2ms/step - loss: 0.3414 - accuracy: 0.8979 - precision: 0.6667 - recall: 0.0049\n",
      "Epoch 7/100\n",
      "124/124 [==============================] - 0s 2ms/step - loss: 0.3329 - accuracy: 0.8982 - precision: 1.0000 - recall: 0.0049\n",
      "Epoch 8/100\n",
      "124/124 [==============================] - 0s 2ms/step - loss: 0.3761 - accuracy: 0.8977 - precision: 0.5000 - recall: 0.0049\n",
      "Epoch 9/100\n",
      "124/124 [==============================] - 0s 2ms/step - loss: 0.3592 - accuracy: 0.8974 - precision: 0.3333 - recall: 0.0025  \n",
      "Epoch 10/100\n",
      "124/124 [==============================] - 0s 2ms/step - loss: 0.4491 - accuracy: 0.8967 - precision: 0.1667 - recall: 0.0025 \n",
      "dict_values([991, 1])\n",
      "[[898   0]\n",
      " [ 93   1]]\n",
      "Accuracy: 0.91\n",
      "Precision: 1.00\n",
      "Recall: 0.01\n",
      "INFO:tensorflow:Assets written to: models/ver/assets\n",
      "MODEL escuchar\n",
      "Epoch 1/100\n"
     ]
    },
    {
     "name": "stderr",
     "output_type": "stream",
     "text": [
      "/home/psyrax/anaconda3/envs/tfgpu39/lib/python3.9/site-packages/keras/optimizer_v2/adam.py:105: UserWarning: The `lr` argument is deprecated, use `learning_rate` instead.\n",
      "  super(Adam, self).__init__(name, **kwargs)\n"
     ]
    },
    {
     "name": "stdout",
     "output_type": "stream",
     "text": [
      "124/124 [==============================] - 1s 2ms/step - loss: 1.3807 - accuracy: 0.9262 - precision: 0.0500 - recall: 0.0419  \n",
      "Epoch 2/100\n",
      "124/124 [==============================] - 0s 2ms/step - loss: 0.1922 - accuracy: 0.9579 - precision: 0.0000e+00 - recall: 0.0000e+00\n",
      "Epoch 3/100\n",
      "124/124 [==============================] - 0s 2ms/step - loss: 0.2034 - accuracy: 0.9574 - precision: 0.0000e+00 - recall: 0.0000e+00\n",
      "Epoch 4/100\n",
      "124/124 [==============================] - 0s 2ms/step - loss: 0.1746 - accuracy: 0.9579 - precision: 0.0000e+00 - recall: 0.0000e+00\n",
      "Epoch 5/100\n",
      "124/124 [==============================] - 0s 2ms/step - loss: 0.1748 - accuracy: 0.9579 - precision: 0.0000e+00 - recall: 0.0000e+00\n",
      "Epoch 6/100\n",
      "124/124 [==============================] - 0s 2ms/step - loss: 0.1748 - accuracy: 0.9579 - precision: 0.0000e+00 - recall: 0.0000e+00\n",
      "Epoch 7/100\n",
      "124/124 [==============================] - 0s 2ms/step - loss: 0.1746 - accuracy: 0.9579 - precision: 0.0000e+00 - recall: 0.0000e+00\n",
      "Epoch 8/100\n",
      "124/124 [==============================] - 0s 2ms/step - loss: 0.1748 - accuracy: 0.9579 - precision: 0.0000e+00 - recall: 0.0000e+00\n",
      "Epoch 9/100\n",
      "124/124 [==============================] - 0s 2ms/step - loss: 0.1747 - accuracy: 0.9579 - precision: 0.0000e+00 - recall: 0.0000e+00\n",
      "dict_values([992])\n",
      "[[962   0]\n",
      " [ 30   0]]\n",
      "Accuracy: 0.97\n",
      "Precision: 0.00\n",
      "Recall: 0.00\n"
     ]
    },
    {
     "name": "stderr",
     "output_type": "stream",
     "text": [
      "/home/psyrax/anaconda3/envs/tfgpu39/lib/python3.9/site-packages/sklearn/metrics/_classification.py:1221: UndefinedMetricWarning: Precision is ill-defined and being set to 0.0 due to no predicted samples. Use `zero_division` parameter to control this behavior.\n",
      "  _warn_prf(average, modifier, msg_start, len(result))\n"
     ]
    },
    {
     "name": "stdout",
     "output_type": "stream",
     "text": [
      "INFO:tensorflow:Assets written to: models/escuchar/assets\n",
      "MODEL hablar\n",
      "Epoch 1/100\n"
     ]
    },
    {
     "name": "stderr",
     "output_type": "stream",
     "text": [
      "/home/psyrax/anaconda3/envs/tfgpu39/lib/python3.9/site-packages/keras/optimizer_v2/adam.py:105: UserWarning: The `lr` argument is deprecated, use `learning_rate` instead.\n",
      "  super(Adam, self).__init__(name, **kwargs)\n"
     ]
    },
    {
     "name": "stdout",
     "output_type": "stream",
     "text": [
      "124/124 [==============================] - 1s 2ms/step - loss: 7.4416 - accuracy: 0.9604 - precision: 0.0532 - recall: 0.0685\n",
      "Epoch 2/100\n",
      "124/124 [==============================] - 0s 2ms/step - loss: 0.9080 - accuracy: 0.9781 - precision: 0.0000e+00 - recall: 0.0000e+00\n",
      "Epoch 3/100\n",
      "124/124 [==============================] - 0s 2ms/step - loss: 1.0292 - accuracy: 0.9788 - precision: 0.0769 - recall: 0.0137  \n",
      "Epoch 4/100\n",
      "124/124 [==============================] - 0s 2ms/step - loss: 1.3701 - accuracy: 0.9798 - precision: 0.1111 - recall: 0.0137    \n",
      "Epoch 5/100\n",
      "124/124 [==============================] - 0s 2ms/step - loss: 2.0961 - accuracy: 0.9793 - precision: 0.0000e+00 - recall: 0.0000e+00\n",
      "Epoch 6/100\n",
      "124/124 [==============================] - 0s 2ms/step - loss: 1.7536 - accuracy: 0.9801 - precision: 0.0000e+00 - recall: 0.0000e+00\n",
      "Epoch 7/100\n",
      "124/124 [==============================] - 0s 2ms/step - loss: 1.2521 - accuracy: 0.9796 - precision: 0.0000e+00 - recall: 0.0000e+00\n",
      "dict_values([992])\n",
      "[[978   0]\n",
      " [ 14   0]]\n",
      "Accuracy: 0.99\n",
      "Precision: 0.00\n",
      "Recall: 0.00\n"
     ]
    },
    {
     "name": "stderr",
     "output_type": "stream",
     "text": [
      "/home/psyrax/anaconda3/envs/tfgpu39/lib/python3.9/site-packages/sklearn/metrics/_classification.py:1221: UndefinedMetricWarning: Precision is ill-defined and being set to 0.0 due to no predicted samples. Use `zero_division` parameter to control this behavior.\n",
      "  _warn_prf(average, modifier, msg_start, len(result))\n"
     ]
    },
    {
     "name": "stdout",
     "output_type": "stream",
     "text": [
      "INFO:tensorflow:Assets written to: models/hablar/assets\n",
      "MODEL cuidado\n",
      "Epoch 1/100\n"
     ]
    },
    {
     "name": "stderr",
     "output_type": "stream",
     "text": [
      "/home/psyrax/anaconda3/envs/tfgpu39/lib/python3.9/site-packages/keras/optimizer_v2/adam.py:105: UserWarning: The `lr` argument is deprecated, use `learning_rate` instead.\n",
      "  super(Adam, self).__init__(name, **kwargs)\n"
     ]
    },
    {
     "name": "stdout",
     "output_type": "stream",
     "text": [
      "124/124 [==============================] - 1s 2ms/step - loss: 9.2746 - accuracy: 0.9582 - precision: 0.0316 - recall: 0.0390\n",
      "Epoch 2/100\n",
      "124/124 [==============================] - 0s 2ms/step - loss: 4.6045 - accuracy: 0.9715 - precision: 0.0500 - recall: 0.0260\n",
      "Epoch 3/100\n",
      "124/124 [==============================] - 0s 2ms/step - loss: 4.1635 - accuracy: 0.9672 - precision: 0.0794 - recall: 0.0649\n",
      "Epoch 4/100\n",
      "124/124 [==============================] - 0s 2ms/step - loss: 5.9062 - accuracy: 0.9577 - precision: 0.0583 - recall: 0.0779 \n",
      "Epoch 5/100\n",
      "124/124 [==============================] - 0s 2ms/step - loss: 5.3597 - accuracy: 0.9690 - precision: 0.0741 - recall: 0.0519    \n",
      "Epoch 6/100\n",
      "124/124 [==============================] - 0s 2ms/step - loss: 2.3352 - accuracy: 0.9778 - precision: 0.0769 - recall: 0.0130\n",
      "Epoch 7/100\n",
      "124/124 [==============================] - 0s 2ms/step - loss: 0.1113 - accuracy: 0.9806 - precision: 0.5000 - recall: 0.0260 \n",
      "Epoch 8/100\n",
      "124/124 [==============================] - 0s 2ms/step - loss: 0.0880 - accuracy: 0.9808 - precision: 1.0000 - recall: 0.0130\n",
      "Epoch 9/100\n",
      "124/124 [==============================] - 0s 2ms/step - loss: 0.0882 - accuracy: 0.9808 - precision: 1.0000 - recall: 0.0130 \n",
      "Epoch 10/100\n",
      "124/124 [==============================] - 0s 2ms/step - loss: 0.0884 - accuracy: 0.9808 - precision: 1.0000 - recall: 0.0130  \n",
      "Epoch 11/100\n",
      "124/124 [==============================] - 0s 2ms/step - loss: 0.0885 - accuracy: 0.9808 - precision: 1.0000 - recall: 0.0130\n",
      "Epoch 12/100\n",
      "124/124 [==============================] - 0s 2ms/step - loss: 0.0880 - accuracy: 0.9808 - precision: 1.0000 - recall: 0.0130  \n",
      "Epoch 13/100\n",
      "124/124 [==============================] - 0s 2ms/step - loss: 0.0883 - accuracy: 0.9808 - precision: 1.0000 - recall: 0.0130    \n",
      "Epoch 14/100\n",
      "124/124 [==============================] - 0s 2ms/step - loss: 0.0878 - accuracy: 0.9808 - precision: 1.0000 - recall: 0.0130\n",
      "Epoch 15/100\n",
      "124/124 [==============================] - 0s 2ms/step - loss: 0.0881 - accuracy: 0.9808 - precision: 1.0000 - recall: 0.0130\n",
      "Epoch 16/100\n",
      "124/124 [==============================] - 0s 2ms/step - loss: 0.0875 - accuracy: 0.9808 - precision: 1.0000 - recall: 0.0130\n",
      "Epoch 17/100\n",
      "124/124 [==============================] - 0s 2ms/step - loss: 0.0878 - accuracy: 0.9808 - precision: 1.0000 - recall: 0.0130   \n",
      "Epoch 18/100\n",
      "124/124 [==============================] - 0s 2ms/step - loss: 0.0882 - accuracy: 0.9808 - precision: 1.0000 - recall: 0.0130   \n",
      "Epoch 19/100\n",
      "124/124 [==============================] - 0s 2ms/step - loss: 0.0879 - accuracy: 0.9808 - precision: 1.0000 - recall: 0.0130   \n",
      "Epoch 20/100\n",
      "124/124 [==============================] - 0s 2ms/step - loss: 0.0878 - accuracy: 0.9808 - precision: 1.0000 - recall: 0.0130 \n",
      "Epoch 21/100\n",
      "124/124 [==============================] - 0s 2ms/step - loss: 0.0885 - accuracy: 0.9808 - precision: 1.0000 - recall: 0.0130  \n",
      "dict_values([992])\n",
      "[[974   0]\n",
      " [ 18   0]]\n",
      "Accuracy: 0.98\n",
      "Precision: 0.00\n",
      "Recall: 0.00\n"
     ]
    },
    {
     "name": "stderr",
     "output_type": "stream",
     "text": [
      "/home/psyrax/anaconda3/envs/tfgpu39/lib/python3.9/site-packages/sklearn/metrics/_classification.py:1221: UndefinedMetricWarning: Precision is ill-defined and being set to 0.0 due to no predicted samples. Use `zero_division` parameter to control this behavior.\n",
      "  _warn_prf(average, modifier, msg_start, len(result))\n"
     ]
    },
    {
     "name": "stdout",
     "output_type": "stream",
     "text": [
      "INFO:tensorflow:Assets written to: models/cuidado/assets\n",
      "MODEL recordar\n",
      "Epoch 1/100\n"
     ]
    },
    {
     "name": "stderr",
     "output_type": "stream",
     "text": [
      "/home/psyrax/anaconda3/envs/tfgpu39/lib/python3.9/site-packages/keras/optimizer_v2/adam.py:105: UserWarning: The `lr` argument is deprecated, use `learning_rate` instead.\n",
      "  super(Adam, self).__init__(name, **kwargs)\n"
     ]
    },
    {
     "name": "stdout",
     "output_type": "stream",
     "text": [
      "124/124 [==============================] - 1s 2ms/step - loss: 2.4552 - accuracy: 0.9302 - precision: 0.0884 - recall: 0.0833\n",
      "Epoch 2/100\n",
      "124/124 [==============================] - 0s 2ms/step - loss: 4.4303 - accuracy: 0.9365 - precision: 0.0385 - recall: 0.0256\n",
      "Epoch 3/100\n",
      "124/124 [==============================] - 0s 2ms/step - loss: 0.7261 - accuracy: 0.9521 - precision: 0.0000e+00 - recall: 0.0000e+00\n",
      "Epoch 4/100\n",
      "124/124 [==============================] - 0s 2ms/step - loss: 0.1651 - accuracy: 0.9609 - precision: 1.0000 - recall: 0.0064 \n",
      "Epoch 5/100\n",
      "124/124 [==============================] - 0s 2ms/step - loss: 0.1651 - accuracy: 0.9609 - precision: 1.0000 - recall: 0.0064  \n",
      "Epoch 6/100\n",
      "124/124 [==============================] - 0s 2ms/step - loss: 0.1694 - accuracy: 0.9609 - precision: 1.0000 - recall: 0.0064\n",
      "Epoch 7/100\n",
      "124/124 [==============================] - 0s 2ms/step - loss: 0.1653 - accuracy: 0.9609 - precision: 1.0000 - recall: 0.0064 \n",
      "Epoch 8/100\n",
      "124/124 [==============================] - 0s 2ms/step - loss: 0.1651 - accuracy: 0.9609 - precision: 1.0000 - recall: 0.0064    \n",
      "Epoch 9/100\n",
      "124/124 [==============================] - 0s 2ms/step - loss: 0.1649 - accuracy: 0.9609 - precision: 1.0000 - recall: 0.0064\n",
      "Epoch 10/100\n",
      "124/124 [==============================] - 0s 2ms/step - loss: 2.2639 - accuracy: 0.9597 - precision: 0.0000e+00 - recall: 0.0000e+00\n",
      "Epoch 11/100\n",
      "124/124 [==============================] - 0s 2ms/step - loss: 0.1661 - accuracy: 0.9607 - precision: 0.0000e+00 - recall: 0.0000e+00\n",
      "Epoch 12/100\n",
      "124/124 [==============================] - 0s 2ms/step - loss: 0.1660 - accuracy: 0.9607 - precision: 0.0000e+00 - recall: 0.0000e+00\n",
      "Epoch 13/100\n",
      "124/124 [==============================] - 0s 2ms/step - loss: 0.1661 - accuracy: 0.9607 - precision: 0.0000e+00 - recall: 0.0000e+00\n",
      "Epoch 14/100\n",
      "124/124 [==============================] - 0s 2ms/step - loss: 0.1659 - accuracy: 0.9607 - precision: 0.0000e+00 - recall: 0.0000e+00\n",
      "dict_values([992])\n",
      "[[957   0]\n",
      " [ 35   0]]\n",
      "Accuracy: 0.96\n",
      "Precision: 0.00\n",
      "Recall: 0.00\n"
     ]
    },
    {
     "name": "stderr",
     "output_type": "stream",
     "text": [
      "/home/psyrax/anaconda3/envs/tfgpu39/lib/python3.9/site-packages/sklearn/metrics/_classification.py:1221: UndefinedMetricWarning: Precision is ill-defined and being set to 0.0 due to no predicted samples. Use `zero_division` parameter to control this behavior.\n",
      "  _warn_prf(average, modifier, msg_start, len(result))\n"
     ]
    },
    {
     "name": "stdout",
     "output_type": "stream",
     "text": [
      "INFO:tensorflow:Assets written to: models/recordar/assets\n",
      "MODEL mental\n",
      "Epoch 1/100\n"
     ]
    },
    {
     "name": "stderr",
     "output_type": "stream",
     "text": [
      "/home/psyrax/anaconda3/envs/tfgpu39/lib/python3.9/site-packages/keras/optimizer_v2/adam.py:105: UserWarning: The `lr` argument is deprecated, use `learning_rate` instead.\n",
      "  super(Adam, self).__init__(name, **kwargs)\n"
     ]
    },
    {
     "name": "stdout",
     "output_type": "stream",
     "text": [
      "124/124 [==============================] - 1s 2ms/step - loss: 3.8828 - accuracy: 0.9723 - precision: 0.0175 - recall: 0.0182\n",
      "Epoch 2/100\n",
      "124/124 [==============================] - 0s 2ms/step - loss: 0.1410 - accuracy: 0.9861 - precision: 0.0000e+00 - recall: 0.0000e+00\n",
      "Epoch 3/100\n",
      "124/124 [==============================] - 0s 2ms/step - loss: 0.1023 - accuracy: 0.9861 - precision: 0.0000e+00 - recall: 0.0000e+00\n",
      "Epoch 4/100\n",
      "124/124 [==============================] - 0s 2ms/step - loss: 0.1693 - accuracy: 0.9861 - precision: 0.0000e+00 - recall: 0.0000e+00\n",
      "Epoch 5/100\n",
      "124/124 [==============================] - 0s 2ms/step - loss: 0.0732 - accuracy: 0.9861 - precision: 0.0000e+00 - recall: 0.0000e+00\n",
      "Epoch 6/100\n",
      "124/124 [==============================] - 0s 2ms/step - loss: 0.1550 - accuracy: 0.9861 - precision: 0.0000e+00 - recall: 0.0000e+00\n",
      "Epoch 7/100\n",
      "124/124 [==============================] - 0s 2ms/step - loss: 0.3133 - accuracy: 0.9846 - precision: 0.0000e+00 - recall: 0.0000e+00\n",
      "Epoch 8/100\n",
      "124/124 [==============================] - 0s 2ms/step - loss: 0.0731 - accuracy: 0.9861 - precision: 0.0000e+00 - recall: 0.0000e+00\n",
      "Epoch 9/100\n",
      "124/124 [==============================] - 0s 2ms/step - loss: 0.0731 - accuracy: 0.9861 - precision: 0.0000e+00 - recall: 0.0000e+00\n",
      "Epoch 10/100\n",
      "124/124 [==============================] - 0s 2ms/step - loss: 0.0731 - accuracy: 0.9861 - precision: 0.0000e+00 - recall: 0.0000e+00\n",
      "Epoch 11/100\n",
      "124/124 [==============================] - 0s 2ms/step - loss: 0.0732 - accuracy: 0.9861 - precision: 0.0000e+00 - recall: 0.0000e+00\n",
      "Epoch 12/100\n",
      "124/124 [==============================] - 0s 2ms/step - loss: 0.0732 - accuracy: 0.9861 - precision: 0.0000e+00 - recall: 0.0000e+00\n",
      "Epoch 13/100\n",
      "124/124 [==============================] - 0s 2ms/step - loss: 0.0731 - accuracy: 0.9861 - precision: 0.0000e+00 - recall: 0.0000e+00\n",
      "Epoch 14/100\n",
      "124/124 [==============================] - 0s 2ms/step - loss: 0.0731 - accuracy: 0.9861 - precision: 0.0000e+00 - recall: 0.0000e+00\n",
      "Epoch 15/100\n",
      "124/124 [==============================] - 0s 2ms/step - loss: 0.0732 - accuracy: 0.9861 - precision: 0.0000e+00 - recall: 0.0000e+00\n",
      "Epoch 16/100\n",
      "124/124 [==============================] - 0s 2ms/step - loss: 0.0731 - accuracy: 0.9861 - precision: 0.0000e+00 - recall: 0.0000e+00\n",
      "Epoch 17/100\n",
      "124/124 [==============================] - 0s 2ms/step - loss: 0.0731 - accuracy: 0.9861 - precision: 0.0000e+00 - recall: 0.0000e+00\n",
      "Epoch 18/100\n",
      "124/124 [==============================] - 0s 2ms/step - loss: 0.0730 - accuracy: 0.9861 - precision: 0.0000e+00 - recall: 0.0000e+00\n",
      "Epoch 19/100\n",
      "124/124 [==============================] - 0s 2ms/step - loss: 0.0731 - accuracy: 0.9861 - precision: 0.0000e+00 - recall: 0.0000e+00\n",
      "Epoch 20/100\n",
      "124/124 [==============================] - 0s 2ms/step - loss: 0.0731 - accuracy: 0.9861 - precision: 0.0000e+00 - recall: 0.0000e+00\n",
      "Epoch 21/100\n",
      "124/124 [==============================] - 0s 2ms/step - loss: 0.0731 - accuracy: 0.9861 - precision: 0.0000e+00 - recall: 0.0000e+00\n",
      "Epoch 22/100\n",
      "124/124 [==============================] - 0s 2ms/step - loss: 0.0731 - accuracy: 0.9861 - precision: 0.0000e+00 - recall: 0.0000e+00\n",
      "Epoch 23/100\n",
      "124/124 [==============================] - 0s 2ms/step - loss: 0.0731 - accuracy: 0.9861 - precision: 0.0000e+00 - recall: 0.0000e+00\n",
      "dict_values([992])\n",
      "[[984   0]\n",
      " [  8   0]]\n",
      "Accuracy: 0.99\n",
      "Precision: 0.00\n",
      "Recall: 0.00\n"
     ]
    },
    {
     "name": "stderr",
     "output_type": "stream",
     "text": [
      "/home/psyrax/anaconda3/envs/tfgpu39/lib/python3.9/site-packages/sklearn/metrics/_classification.py:1221: UndefinedMetricWarning: Precision is ill-defined and being set to 0.0 due to no predicted samples. Use `zero_division` parameter to control this behavior.\n",
      "  _warn_prf(average, modifier, msg_start, len(result))\n"
     ]
    },
    {
     "name": "stdout",
     "output_type": "stream",
     "text": [
      "INFO:tensorflow:Assets written to: models/mental/assets\n"
     ]
    }
   ],
   "source": [
    "targetModels = ['caminar','ver','escuchar','hablar','cuidado','recordar','mental']\n",
    "for targetModel in targetModels: \n",
    "    print('MODEL {}'.format(targetModel))\n",
    "    X = df.drop(columns=['acc','caminar','ver','escuchar','hablar','cuidado','recordar','mental', 'EDAD'])\n",
    "    y = df[targetModel]\n",
    "    X_train, X_test, y_train, y_test = train_test_split(\n",
    "        X, y, \n",
    "        test_size=0.2, random_state=3376\n",
    "    )\n",
    "    scaler = StandardScaler()\n",
    "    X_train_scaled = scaler.fit_transform(X_train)\n",
    "    X_test_scaled = scaler.transform(X_test)\n",
    "    tf.random.set_seed(1337)\n",
    "    callback = tf.keras.callbacks.EarlyStopping(monitor='loss', patience=5)\n",
    "    model = tf.keras.Sequential([\n",
    "        tf.keras.layers.Dense(128, activation='relu'),\n",
    "        tf.keras.layers.Dense(256, activation='relu'),\n",
    "        tf.keras.layers.Dense(256, activation='relu'),\n",
    "        tf.keras.layers.Dense(1, activation='sigmoid')\n",
    "    ])\n",
    "\n",
    "    model.compile(\n",
    "        loss=tf.keras.losses.binary_crossentropy,\n",
    "        optimizer=tf.keras.optimizers.Adam(lr=0.03),\n",
    "        metrics=[\n",
    "            tf.keras.metrics.BinaryAccuracy(name='accuracy'),\n",
    "            tf.keras.metrics.Precision(name='precision'),\n",
    "            tf.keras.metrics.Recall(name='recall')\n",
    "        ]\n",
    "    )\n",
    "\n",
    "    history = model.fit(X_train_scaled, y_train, epochs=100, callbacks=[callback],)\n",
    "    predictions = model.predict(X_test_scaled)\n",
    "    prediction_classes = [\n",
    "        1 if prob > 0.5 else 0 for prob in np.ravel(predictions)\n",
    "    ]\n",
    "    print(Counter(prediction_classes).values())\n",
    "    print(confusion_matrix(y_test, prediction_classes))\n",
    "    print(f'Accuracy: {accuracy_score(y_test, prediction_classes):.2f}')\n",
    "    print(f'Precision: {precision_score(y_test, prediction_classes):.2f}')\n",
    "    print(f'Recall: {recall_score(y_test, prediction_classes):.2f}')\n",
    "    tf.keras.models.save_model(\n",
    "        model,\n",
    "        'models/{}'.format(targetModel),\n",
    "        overwrite=True,\n",
    "        include_optimizer=True,\n",
    "        save_format=None,\n",
    "        signatures=None,\n",
    "        options=None\n",
    "    )"
   ]
  },
  {
   "cell_type": "code",
   "execution_count": 107,
   "metadata": {},
   "outputs": [],
   "source": [
    "X = df.drop(columns=['acc','caminar','ver','escuchar','hablar','cuidado','recordar','mental'])\n",
    "y = df['acc']\n",
    "y.to_csv('y.csv', index=False)\n",
    "X_train, X_test, y_train, y_test = train_test_split(\n",
    "    X, y, \n",
    "    test_size=0.2, random_state=3376\n",
    ")"
   ]
  },
  {
   "cell_type": "code",
   "execution_count": 100,
   "metadata": {},
   "outputs": [],
   "source": [
    "scaler = StandardScaler()\n",
    "X_train_scaled = scaler.fit_transform(X_train)\n",
    "X_test_scaled = scaler.transform(X_test)"
   ]
  },
  {
   "cell_type": "code",
   "execution_count": 101,
   "metadata": {},
   "outputs": [
    {
     "name": "stdout",
     "output_type": "stream",
     "text": [
      "Epoch 1/100\n"
     ]
    },
    {
     "name": "stderr",
     "output_type": "stream",
     "text": [
      "/home/psyrax/anaconda3/envs/tfgpu39/lib/python3.9/site-packages/keras/optimizer_v2/adam.py:105: UserWarning: The `lr` argument is deprecated, use `learning_rate` instead.\n",
      "  super(Adam, self).__init__(name, **kwargs)\n"
     ]
    },
    {
     "name": "stdout",
     "output_type": "stream",
     "text": [
      "124/124 [==============================] - 1s 2ms/step - loss: 1.5286 - accuracy: 0.8117 - precision: 0.1000 - recall: 0.0150\n",
      "Epoch 2/100\n",
      "124/124 [==============================] - 0s 2ms/step - loss: 0.4843 - accuracy: 0.8309 - precision: 0.1667 - recall: 0.0015   \n",
      "Epoch 3/100\n",
      "124/124 [==============================] - 0s 2ms/step - loss: 0.4561 - accuracy: 0.8317 - precision: 0.4000 - recall: 0.0030\n",
      "Epoch 4/100\n",
      "124/124 [==============================] - 0s 2ms/step - loss: 0.5064 - accuracy: 0.8319 - precision: 0.5000 - recall: 0.0015   \n",
      "Epoch 5/100\n",
      "124/124 [==============================] - 0s 2ms/step - loss: 0.4559 - accuracy: 0.8317 - precision: 0.0000e+00 - recall: 0.0000e+00\n",
      "Epoch 6/100\n",
      "124/124 [==============================] - 0s 2ms/step - loss: 0.4539 - accuracy: 0.8319 - precision: 0.0000e+00 - recall: 0.0000e+00\n",
      "Epoch 7/100\n",
      "124/124 [==============================] - 0s 2ms/step - loss: 0.4534 - accuracy: 0.8319 - precision: 0.0000e+00 - recall: 0.0000e+00\n",
      "Epoch 8/100\n",
      "124/124 [==============================] - 0s 2ms/step - loss: 0.4535 - accuracy: 0.8319 - precision: 0.0000e+00 - recall: 0.0000e+00\n",
      "Epoch 9/100\n",
      "124/124 [==============================] - 0s 2ms/step - loss: 0.4535 - accuracy: 0.8319 - precision: 0.0000e+00 - recall: 0.0000e+00\n",
      "Epoch 10/100\n",
      "124/124 [==============================] - 0s 2ms/step - loss: 0.4535 - accuracy: 0.8319 - precision: 0.0000e+00 - recall: 0.0000e+00\n",
      "Epoch 11/100\n",
      "124/124 [==============================] - 0s 2ms/step - loss: 0.4533 - accuracy: 0.8319 - precision: 0.0000e+00 - recall: 0.0000e+00\n",
      "Epoch 12/100\n",
      "124/124 [==============================] - 0s 2ms/step - loss: 0.4526 - accuracy: 0.8319 - precision: 0.0000e+00 - recall: 0.0000e+00\n",
      "Epoch 13/100\n",
      "124/124 [==============================] - 0s 2ms/step - loss: 0.4538 - accuracy: 0.8319 - precision: 0.0000e+00 - recall: 0.0000e+00\n",
      "Epoch 14/100\n",
      "124/124 [==============================] - 0s 2ms/step - loss: 0.4532 - accuracy: 0.8319 - precision: 0.0000e+00 - recall: 0.0000e+00\n",
      "Epoch 15/100\n",
      "124/124 [==============================] - 0s 2ms/step - loss: 0.4538 - accuracy: 0.8319 - precision: 0.0000e+00 - recall: 0.0000e+00\n",
      "Epoch 16/100\n",
      "124/124 [==============================] - 0s 2ms/step - loss: 0.4538 - accuracy: 0.8319 - precision: 0.0000e+00 - recall: 0.0000e+00\n",
      "Epoch 17/100\n",
      "124/124 [==============================] - 0s 2ms/step - loss: 0.4530 - accuracy: 0.8319 - precision: 0.0000e+00 - recall: 0.0000e+00\n"
     ]
    }
   ],
   "source": [
    "tf.random.set_seed(1337)\n",
    "callback = tf.keras.callbacks.EarlyStopping(monitor='loss', patience=5)\n",
    "model = tf.keras.Sequential([\n",
    "    tf.keras.layers.Dense(128, activation='relu'),\n",
    "    tf.keras.layers.Dense(256, activation='relu'),\n",
    "    tf.keras.layers.Dense(256, activation='relu'),\n",
    "    tf.keras.layers.Dense(1, activation='sigmoid')\n",
    "])\n",
    "\n",
    "model.compile(\n",
    "    loss=tf.keras.losses.binary_crossentropy,\n",
    "    optimizer=tf.keras.optimizers.Adam(lr=0.03),\n",
    "    metrics=[\n",
    "        tf.keras.metrics.BinaryAccuracy(name='accuracy'),\n",
    "        tf.keras.metrics.Precision(name='precision'),\n",
    "        tf.keras.metrics.Recall(name='recall')\n",
    "    ]\n",
    ")\n",
    "\n",
    "history = model.fit(X_train_scaled, y_train, epochs=100, callbacks=[callback],)"
   ]
  },
  {
   "cell_type": "code",
   "execution_count": 102,
   "metadata": {},
   "outputs": [],
   "source": [
    "predictions = model.predict(X_test_scaled)"
   ]
  },
  {
   "cell_type": "code",
   "execution_count": 103,
   "metadata": {},
   "outputs": [],
   "source": [
    "prediction_classes = [\n",
    "    1 if prob > 0.5 else 0 for prob in np.ravel(predictions)\n",
    "]"
   ]
  },
  {
   "cell_type": "code",
   "execution_count": 104,
   "metadata": {},
   "outputs": [
    {
     "data": {
      "text/plain": [
       "dict_values([992])"
      ]
     },
     "execution_count": 104,
     "metadata": {},
     "output_type": "execute_result"
    }
   ],
   "source": [
    "Counter(prediction_classes).values()"
   ]
  },
  {
   "cell_type": "code",
   "execution_count": 105,
   "metadata": {},
   "outputs": [
    {
     "name": "stdout",
     "output_type": "stream",
     "text": [
      "[[842   0]\n",
      " [150   0]]\n"
     ]
    }
   ],
   "source": [
    "print(confusion_matrix(y_test, prediction_classes))"
   ]
  },
  {
   "cell_type": "code",
   "execution_count": 106,
   "metadata": {},
   "outputs": [
    {
     "name": "stdout",
     "output_type": "stream",
     "text": [
      "Accuracy: 0.85\n",
      "Precision: 0.00\n",
      "Recall: 0.00\n"
     ]
    },
    {
     "name": "stderr",
     "output_type": "stream",
     "text": [
      "/home/psyrax/anaconda3/envs/tfgpu39/lib/python3.9/site-packages/sklearn/metrics/_classification.py:1221: UndefinedMetricWarning: Precision is ill-defined and being set to 0.0 due to no predicted samples. Use `zero_division` parameter to control this behavior.\n",
      "  _warn_prf(average, modifier, msg_start, len(result))\n"
     ]
    }
   ],
   "source": [
    "print(f'Accuracy: {accuracy_score(y_test, prediction_classes):.2f}')\n",
    "print(f'Precision: {precision_score(y_test, prediction_classes):.2f}')\n",
    "print(f'Recall: {recall_score(y_test, prediction_classes):.2f}')"
   ]
  },
  {
   "cell_type": "code",
   "execution_count": 95,
   "metadata": {},
   "outputs": [
    {
     "name": "stderr",
     "output_type": "stream",
     "text": [
      "2022-10-22 22:19:53.881273: W tensorflow/python/util/util.cc:368] Sets are not currently considered sequences, but this may change in the future, so consider avoiding using them.\n"
     ]
    },
    {
     "name": "stdout",
     "output_type": "stream",
     "text": [
      "INFO:tensorflow:Assets written to: models/acc/assets\n"
     ]
    }
   ],
   "source": [
    "tf.keras.models.save_model(\n",
    "    model,\n",
    "    'models/{}'.format(targetModel),\n",
    "    overwrite=True,\n",
    "    include_optimizer=True,\n",
    "    save_format=None,\n",
    "    signatures=None,\n",
    "    options=None\n",
    ")"
   ]
  }
 ],
 "metadata": {
  "kernelspec": {
   "display_name": "Python 3.9.12 ('tfgpu39')",
   "language": "python",
   "name": "python3"
  },
  "language_info": {
   "codemirror_mode": {
    "name": "ipython",
    "version": 3
   },
   "file_extension": ".py",
   "mimetype": "text/x-python",
   "name": "python",
   "nbconvert_exporter": "python",
   "pygments_lexer": "ipython3",
   "version": "3.9.12"
  },
  "orig_nbformat": 4,
  "vscode": {
   "interpreter": {
    "hash": "88d8ed186c68d503a0f570c9dee2885319d581558d781a7fc125ecc9208eac4f"
   }
  }
 },
 "nbformat": 4,
 "nbformat_minor": 2
}
